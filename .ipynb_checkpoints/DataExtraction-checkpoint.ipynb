{
 "cells": [
  {
   "cell_type": "markdown",
   "id": "d3b1a1c3",
   "metadata": {},
   "source": [
    "###### Our aim in this notebook is extracting the data in https://www.euroncap.com/en/results/ds/9/46602 and store it in a CSV file"
   ]
  },
  {
   "cell_type": "code",
   "execution_count": 16,
   "id": "ba43d982",
   "metadata": {},
   "outputs": [],
   "source": [
    "#import libraries\n",
    "\n",
    "from selenium import webdriver\n",
    "from selenium.webdriver.common.keys import Keys\n",
    "from selenium.webdriver.common.by import By\n",
    "from selenium.webdriver.support.ui import WebDriverWait\n",
    "from selenium.webdriver.support import expected_conditions as EC\n",
    "import pandas as pd\n",
    "import numpy as np\n"
   ]
  },
  {
   "cell_type": "code",
   "execution_count": 3,
   "id": "42e1d2f1",
   "metadata": {},
   "outputs": [],
   "source": [
    "# specify cols names\n",
    "\n",
    "INDEX_LIST = ['Tested Model','Body Type','Year Of Publication','Kerb Weight'\n",
    "              ,'VIN From Which Rating Applies','Class','Adult Occupant'\n",
    "              ,'Child Occupant','Vulnerable Road Users','Safety Assist','Active Bonnet'\n",
    "              ,'AEB Vulnerable Road Users','AEB Pedestrian - Reverse'\n",
    "              ,'AEB Car-to-Car','Speed Assistance','Lane Assist System'\n",
    "              ,'Front Airbag-Driver','Front Airbag-Passenger', 'Front Airbag-Rear' \n",
    "              ,'Belt Pretensioner-Driver','Belt Pretensioner-Passenger', 'Belt Pretensioner-Rear'\n",
    "              ,'Belt Loadlimiter-Driver','Belt Loadlimiter-Passenger', 'Belt Loadlimiter-Rear'\n",
    "              ,'Knee Airbag-Driver','Knee Airbag-Passenger', 'Knee Airbag-Rear'\n",
    "              ,'Side Head Airbag-Driver','Side Head Airbag-Passenger', 'Side Head Airbag-Rear'\n",
    "              ,'Side Chest Airbag-Driver','Side Chest Airbag-Passenger', 'Side Chest Airbag-Rear'\n",
    "              ,'Side Pelvis Airbag-Driver','Side Pelvis Airbag-Passenger', 'Side Pelvis Airbag-Rear'\n",
    "              ,'Side Head Airbag-Driver','Side Head Airbag-Passenger', 'Side Head Airbag-Rear'\n",
    "              ,'Centre Airbag-Driver','Centre Airbag-Passenger', 'Centre Airbag-Rear'\n",
    "              ,'Isofix/i-Size-Driver','Isofix/i-Size-Passenger', 'Isofix/i-Size\t-Rear'\n",
    "              ,'Integrated Child Seat-Driver','Integrated Child Seat-Passenger', 'Integrated Child Seat-Rear'\n",
    "              ,'Airbag cut-off switch-Driver','Airbag cut-off switch-Passenger', 'Airbag cut-off switch-Rear'\n",
    "              ,'Seatbelt Reminder-Driver','Seatbelt Reminder-Passenger', 'Seatbelt Reminder-Rear']"
   ]
  },
  {
   "cell_type": "code",
   "execution_count": 21,
   "id": "6f108d5f",
   "metadata": {},
   "outputs": [
    {
     "ename": "TimeoutException",
     "evalue": "Message: \nStacktrace:\n0   chromedriver                        0x000000010bc8cae8 chromedriver + 4958952\n1   chromedriver                        0x000000010bc847b3 chromedriver + 4925363\n2   chromedriver                        0x000000010b8461d6 chromedriver + 475606\n3   chromedriver                        0x000000010b889a20 chromedriver + 752160\n4   chromedriver                        0x000000010b889c81 chromedriver + 752769\n5   chromedriver                        0x000000010b8cdf64 chromedriver + 1032036\n6   chromedriver                        0x000000010b8afc3d chromedriver + 908349\n7   chromedriver                        0x000000010b8cb25b chromedriver + 1020507\n8   chromedriver                        0x000000010b8af9e3 chromedriver + 907747\n9   chromedriver                        0x000000010b879aef chromedriver + 686831\n10  chromedriver                        0x000000010b87b00e chromedriver + 692238\n11  chromedriver                        0x000000010bc489ad chromedriver + 4680109\n12  chromedriver                        0x000000010bc4dc12 chromedriver + 4701202\n13  chromedriver                        0x000000010bc5479f chromedriver + 4728735\n14  chromedriver                        0x000000010bc4eb7a chromedriver + 4705146\n15  chromedriver                        0x000000010bc2127e chromedriver + 4518526\n16  chromedriver                        0x000000010bc6e908 chromedriver + 4835592\n17  chromedriver                        0x000000010bc6ea87 chromedriver + 4835975\n18  chromedriver                        0x000000010bc7e00f chromedriver + 4898831\n19  libsystem_pthread.dylib             0x00007ff8107534e1 _pthread_start + 125\n20  libsystem_pthread.dylib             0x00007ff81074ef6b thread_start + 15\n",
     "output_type": "error",
     "traceback": [
      "\u001b[0;31m---------------------------------------------------------------------------\u001b[0m",
      "\u001b[0;31mTimeoutException\u001b[0m                          Traceback (most recent call last)",
      "\u001b[0;32m/var/folders/y5/q6l7b64d6997mf8ms3wzjd2h0000gn/T/ipykernel_9352/2511387242.py\u001b[0m in \u001b[0;36m<module>\u001b[0;34m\u001b[0m\n\u001b[1;32m      5\u001b[0m \u001b[0;34m\u001b[0m\u001b[0m\n\u001b[1;32m      6\u001b[0m \u001b[0;32mtry\u001b[0m\u001b[0;34m:\u001b[0m\u001b[0;34m\u001b[0m\u001b[0;34m\u001b[0m\u001b[0m\n\u001b[0;32m----> 7\u001b[0;31m     elem = WebDriverWait(browser, 60).until(\n\u001b[0m\u001b[1;32m      8\u001b[0m     \u001b[0mEC\u001b[0m\u001b[0;34m.\u001b[0m\u001b[0mpresence_of_element_located\u001b[0m\u001b[0;34m(\u001b[0m\u001b[0;34m(\u001b[0m\u001b[0mBy\u001b[0m\u001b[0;34m.\u001b[0m\u001b[0mCLASS_NAME\u001b[0m\u001b[0;34m,\u001b[0m \u001b[0;34m\"rating-table-row-c c9\"\u001b[0m\u001b[0;34m)\u001b[0m\u001b[0;34m)\u001b[0m \u001b[0;31m#This is a dummy element\u001b[0m\u001b[0;34m\u001b[0m\u001b[0;34m\u001b[0m\u001b[0m\n\u001b[1;32m      9\u001b[0m )\n",
      "\u001b[0;32m~/opt/anaconda3/lib/python3.9/site-packages/selenium/webdriver/support/wait.py\u001b[0m in \u001b[0;36muntil\u001b[0;34m(self, method, message)\u001b[0m\n\u001b[1;32m     93\u001b[0m             \u001b[0;32mif\u001b[0m \u001b[0mtime\u001b[0m\u001b[0;34m.\u001b[0m\u001b[0mmonotonic\u001b[0m\u001b[0;34m(\u001b[0m\u001b[0;34m)\u001b[0m \u001b[0;34m>\u001b[0m \u001b[0mend_time\u001b[0m\u001b[0;34m:\u001b[0m\u001b[0;34m\u001b[0m\u001b[0;34m\u001b[0m\u001b[0m\n\u001b[1;32m     94\u001b[0m                 \u001b[0;32mbreak\u001b[0m\u001b[0;34m\u001b[0m\u001b[0;34m\u001b[0m\u001b[0m\n\u001b[0;32m---> 95\u001b[0;31m         \u001b[0;32mraise\u001b[0m \u001b[0mTimeoutException\u001b[0m\u001b[0;34m(\u001b[0m\u001b[0mmessage\u001b[0m\u001b[0;34m,\u001b[0m \u001b[0mscreen\u001b[0m\u001b[0;34m,\u001b[0m \u001b[0mstacktrace\u001b[0m\u001b[0;34m)\u001b[0m\u001b[0;34m\u001b[0m\u001b[0;34m\u001b[0m\u001b[0m\n\u001b[0m\u001b[1;32m     96\u001b[0m \u001b[0;34m\u001b[0m\u001b[0m\n\u001b[1;32m     97\u001b[0m     \u001b[0;32mdef\u001b[0m \u001b[0muntil_not\u001b[0m\u001b[0;34m(\u001b[0m\u001b[0mself\u001b[0m\u001b[0;34m,\u001b[0m \u001b[0mmethod\u001b[0m\u001b[0;34m,\u001b[0m \u001b[0mmessage\u001b[0m\u001b[0;34m:\u001b[0m \u001b[0mstr\u001b[0m \u001b[0;34m=\u001b[0m \u001b[0;34m\"\"\u001b[0m\u001b[0;34m)\u001b[0m\u001b[0;34m:\u001b[0m\u001b[0;34m\u001b[0m\u001b[0;34m\u001b[0m\u001b[0m\n",
      "\u001b[0;31mTimeoutException\u001b[0m: Message: \nStacktrace:\n0   chromedriver                        0x000000010bc8cae8 chromedriver + 4958952\n1   chromedriver                        0x000000010bc847b3 chromedriver + 4925363\n2   chromedriver                        0x000000010b8461d6 chromedriver + 475606\n3   chromedriver                        0x000000010b889a20 chromedriver + 752160\n4   chromedriver                        0x000000010b889c81 chromedriver + 752769\n5   chromedriver                        0x000000010b8cdf64 chromedriver + 1032036\n6   chromedriver                        0x000000010b8afc3d chromedriver + 908349\n7   chromedriver                        0x000000010b8cb25b chromedriver + 1020507\n8   chromedriver                        0x000000010b8af9e3 chromedriver + 907747\n9   chromedriver                        0x000000010b879aef chromedriver + 686831\n10  chromedriver                        0x000000010b87b00e chromedriver + 692238\n11  chromedriver                        0x000000010bc489ad chromedriver + 4680109\n12  chromedriver                        0x000000010bc4dc12 chromedriver + 4701202\n13  chromedriver                        0x000000010bc5479f chromedriver + 4728735\n14  chromedriver                        0x000000010bc4eb7a chromedriver + 4705146\n15  chromedriver                        0x000000010bc2127e chromedriver + 4518526\n16  chromedriver                        0x000000010bc6e908 chromedriver + 4835592\n17  chromedriver                        0x000000010bc6ea87 chromedriver + 4835975\n18  chromedriver                        0x000000010bc7e00f chromedriver + 4898831\n19  libsystem_pthread.dylib             0x00007ff8107534e1 _pthread_start + 125\n20  libsystem_pthread.dylib             0x00007ff81074ef6b thread_start + 15\n"
     ]
    }
   ],
   "source": [
    "# access the website \n",
    "\n",
    "browser = webdriver.Chrome()\n",
    "browser.get('https://www.euroncap.com/en/ratings-rewards/latest-safety-ratings/#?selectedMake=0&selectedMakeName=Select%20a%20make&selectedModel=0&selectedStar=&includeFullSafetyPackage=true&includeStandardSafetyPackage=true&selectedModelName=All&selectedProtocols=49446,45155,41776,40302,34803,30636,26061,24370&selectedClasses=1202,1199,1201,1196,1205,1203,1198,1179,40250,1197,1204,1180,34736,44997&allClasses=true&allProtocols=false&allDriverAssistanceTechnologies=false&selectedDriverAssistanceTechnologies=&thirdRowFitment=false')\n",
    "\n",
    "#try:\n",
    "#    elem = WebDriverWait(browser, 60).until(\n",
    "#    EC.presence_of_element_located((By.CLASS_NAME, \"rating-table-row-c c9\")) #This is a dummy element\n",
    "#)\n",
    "#finally:\n",
    "\n",
    "\n",
    "\n",
    "browser.find_elements(By.CLASS_NAME, \"rating-table-row-c c9\")\n",
    "#CARS_LINKS = [link.get_attribute(\"href\") for link in ]\n",
    "\n",
    "\n",
    "browser.quit()\n",
    "\n",
    "CARS_LINKS"
   ]
  },
  {
   "cell_type": "code",
   "execution_count": null,
   "id": "394e504f",
   "metadata": {},
   "outputs": [],
   "source": []
  }
 ],
 "metadata": {
  "kernelspec": {
   "display_name": "Python 3 (ipykernel)",
   "language": "python",
   "name": "python3"
  },
  "language_info": {
   "codemirror_mode": {
    "name": "ipython",
    "version": 3
   },
   "file_extension": ".py",
   "mimetype": "text/x-python",
   "name": "python",
   "nbconvert_exporter": "python",
   "pygments_lexer": "ipython3",
   "version": "3.9.13"
  }
 },
 "nbformat": 4,
 "nbformat_minor": 5
}
