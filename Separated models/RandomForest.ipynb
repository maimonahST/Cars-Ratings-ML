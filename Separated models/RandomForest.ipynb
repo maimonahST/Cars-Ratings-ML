{
 "cells": [
  {
   "cell_type": "code",
   "execution_count": 19,
   "id": "cedc6aca",
   "metadata": {},
   "outputs": [],
   "source": [
    "import pandas as pd\n",
    "import numpy as np\n",
    "import seaborn as sns \n",
    "import matplotlib.pyplot as plt"
   ]
  },
  {
   "cell_type": "code",
   "execution_count": 20,
   "id": "ae8a2757",
   "metadata": {},
   "outputs": [],
   "source": [
    "df=pd.read_csv('finalDataset.csv')\n",
    "df.columns\n",
    "np.random.seed(8)"
   ]
  },
  {
   "cell_type": "code",
   "execution_count": 21,
   "id": "3c35621f",
   "metadata": {},
   "outputs": [
    {
     "data": {
      "text/plain": [
       "5.0    224\n",
       "4.0     50\n",
       "3.0     28\n",
       "1.0      3\n",
       "0.0      3\n",
       "2.0      3\n",
       "Name: Rate, dtype: int64"
      ]
     },
     "execution_count": 21,
     "metadata": {},
     "output_type": "execute_result"
    }
   ],
   "source": [
    "df[\"Rate\"].value_counts()"
   ]
  },
  {
   "cell_type": "code",
   "execution_count": 22,
   "id": "ed184d4d",
   "metadata": {},
   "outputs": [
    {
     "name": "stderr",
     "output_type": "stream",
     "text": [
      "C:\\Users\\Spark\\anaconda3\\lib\\site-packages\\seaborn\\_decorators.py:36: FutureWarning: Pass the following variable as a keyword arg: x. From version 0.12, the only valid positional argument will be `data`, and passing other arguments without an explicit keyword will result in an error or misinterpretation.\n",
      "  warnings.warn(\n"
     ]
    },
    {
     "data": {
      "image/png": "[encoded data removed]",
      "text/plain": [
       "<Figure size 432x288 with 1 Axes>"
      ]
     },
     "metadata": {
      "needs_background": "light"
     },
     "output_type": "display_data"
    }
   ],
   "source": [
    "sns.countplot(df[\"Rate\"])\n",
    "plt.xlabel(\"Rate of safety\")\n",
    "plt.ylabel(\"Count of rates\")\n",
    "plt.title(\"Car satety ratings\")\n",
    "plt.show()"
   ]
  },
  {
   "cell_type": "code",
   "execution_count": 23,
   "id": "c5da1bb4",
   "metadata": {},
   "outputs": [],
   "source": [
    "x= df.iloc[:,:-1]\n",
    "y=df.iloc[:,-1]"
   ]
  },
  {
   "cell_type": "code",
   "execution_count": 24,
   "id": "8d08f6f2",
   "metadata": {},
   "outputs": [
    {
     "data": {
      "text/plain": [
       "(311, 17)"
      ]
     },
     "execution_count": 24,
     "metadata": {},
     "output_type": "execute_result"
    }
   ],
   "source": [
    "x.shape"
   ]
  },
  {
   "cell_type": "code",
   "execution_count": 25,
   "id": "e9300119",
   "metadata": {},
   "outputs": [
    {
     "data": {
      "text/plain": [
       "(311,)"
      ]
     },
     "execution_count": 25,
     "metadata": {},
     "output_type": "execute_result"
    }
   ],
   "source": [
    "y.shape"
   ]
  },
  {
   "cell_type": "code",
   "execution_count": 59,
   "id": "071fd559",
   "metadata": {},
   "outputs": [],
   "source": [
    "from sklearn.model_selection import train_test_split\n",
    "x_train, x_test, y_train, y_test= train_test_split(x,y, \n",
    "                                                   random_state=200)"
   ]
  },
  {
   "cell_type": "code",
   "execution_count": 60,
   "id": "11d08409",
   "metadata": {},
   "outputs": [],
   "source": [
    "from sklearn.ensemble import RandomForestClassifier\n",
    "clf= RandomForestClassifier(criterion=\"gini\",\n",
    "                           max_depth=8,\n",
    "                           min_samples_split=10,\n",
    "                           random_state= 200)"
   ]
  },
  {
   "cell_type": "code",
   "execution_count": 61,
   "id": "a613c628",
   "metadata": {},
   "outputs": [
    {
     "data": {
      "text/plain": [
       "RandomForestClassifier(max_depth=8, min_samples_split=10, random_state=200)"
      ]
     },
     "execution_count": 61,
     "metadata": {},
     "output_type": "execute_result"
    }
   ],
   "source": [
    "clf.fit(x_train, y_train)"
   ]
  },
  {
   "cell_type": "code",
   "execution_count": 62,
   "id": "b4c6f874",
   "metadata": {},
   "outputs": [
    {
     "data": {
      "text/plain": [
       "array([0.01686878, 0.14207072, 0.02170509, 0.0186908 , 0.02272336,\n",
       "       0.00261917, 0.28137922, 0.19341822, 0.03391742, 0.03947461,\n",
       "       0.03192754, 0.05958795, 0.00470972, 0.00306752, 0.11800169,\n",
       "       0.00325339, 0.0065848 ])"
      ]
     },
     "execution_count": 62,
     "metadata": {},
     "output_type": "execute_result"
    }
   ],
   "source": [
    "clf.feature_importances_"
   ]
  },
  {
   "cell_type": "code",
   "execution_count": 63,
   "id": "5a8fca02",
   "metadata": {},
   "outputs": [
    {
     "data": {
      "text/plain": [
       "Index(['Centre Airbag-Driver', 'Vulnerable Road Users',\n",
       "       'Centre Airbag-Passenger', 'Tested Model',\n",
       "       'VIN From Which Rating Applies', 'Centre Airbag-Rear', 'Adult Occupant',\n",
       "       'Safety Assist', 'Year Of Publication', 'Class', 'Lane Assist System',\n",
       "       'Kerb Weight', 'AEB Vulnerable Road Users', 'Isofix/i-Size-Passenger',\n",
       "       'Child Occupant', 'Knee Airbag-Rear', 'Front Airbag-Rear', 'Rate'],\n",
       "      dtype='object')"
      ]
     },
     "execution_count": 63,
     "metadata": {},
     "output_type": "execute_result"
    }
   ],
   "source": [
    "df.columns"
   ]
  },
  {
   "cell_type": "code",
   "execution_count": 64,
   "id": "396563f6",
   "metadata": {},
   "outputs": [],
   "source": [
    "y_pred=clf.predict(x_test)"
   ]
  },
  {
   "cell_type": "code",
   "execution_count": 65,
   "id": "9e2a4dd3",
   "metadata": {},
   "outputs": [
    {
     "data": {
      "text/plain": [
       "array([5., 5., 5., 5., 3., 1., 5., 5., 5., 5., 5., 3., 5., 5., 3., 3., 4.,\n",
       "       5., 5., 5., 5., 4., 5., 5., 5., 5., 5., 4., 4., 5., 5., 5., 5., 5.,\n",
       "       5., 5., 4., 5., 5., 5., 5., 5., 3., 4., 4., 5., 5., 5., 5., 5., 5.,\n",
       "       5., 5., 5., 5., 5., 4., 5., 5., 5., 5., 3., 5., 5., 5., 5., 5., 4.,\n",
       "       4., 5., 4., 3., 5., 5., 5., 5., 5., 5.])"
      ]
     },
     "execution_count": 65,
     "metadata": {},
     "output_type": "execute_result"
    }
   ],
   "source": [
    "y_pred"
   ]
  },
  {
   "cell_type": "code",
   "execution_count": 66,
   "id": "e2532eb2",
   "metadata": {},
   "outputs": [
    {
     "data": {
      "text/plain": [
       "array([[ 0,  0,  0,  1,  0,  0],\n",
       "       [ 0,  1,  0,  0,  0,  0],\n",
       "       [ 0,  0,  0,  1,  0,  0],\n",
       "       [ 0,  0,  0,  5,  2,  0],\n",
       "       [ 0,  0,  0,  0,  9,  2],\n",
       "       [ 0,  0,  0,  0,  0, 57]], dtype=int64)"
      ]
     },
     "execution_count": 66,
     "metadata": {},
     "output_type": "execute_result"
    }
   ],
   "source": [
    "from sklearn.metrics import confusion_matrix\n",
    "confusion_matrix(y_test, y_pred)"
   ]
  },
  {
   "cell_type": "code",
   "execution_count": 67,
   "id": "ef06539f",
   "metadata": {},
   "outputs": [
    {
     "data": {
      "text/plain": [
       "0.9230769230769231"
      ]
     },
     "execution_count": 67,
     "metadata": {},
     "output_type": "execute_result"
    }
   ],
   "source": [
    "from sklearn.metrics import accuracy_score\n",
    "accuracy_score(y_test, y_pred)"
   ]
  },
  {
   "cell_type": "code",
   "execution_count": 68,
   "id": "0bc2729e",
   "metadata": {},
   "outputs": [
    {
     "name": "stderr",
     "output_type": "stream",
     "text": [
      "C:\\Users\\Spark\\anaconda3\\lib\\site-packages\\sklearn\\model_selection\\_split.py:676: UserWarning: The least populated class in y has only 2 members, which is less than n_splits=10.\n",
      "  warnings.warn(\n"
     ]
    },
    {
     "name": "stdout",
     "output_type": "stream",
     "text": [
      "[0.83333333 0.83333333 0.95833333 0.95652174 0.91304348 0.91304348\n",
      " 0.91304348 0.91304348 0.91304348 0.91304348]\n"
     ]
    }
   ],
   "source": [
    "from sklearn.model_selection import cross_val_score\n",
    "print(cross_val_score(clf, x_train, y_train, cv=10))"
   ]
  },
  {
   "cell_type": "code",
   "execution_count": 69,
   "id": "f89eb221",
   "metadata": {},
   "outputs": [
    {
     "name": "stdout",
     "output_type": "stream",
     "text": [
      "              precision    recall  f1-score   support\n",
      "\n",
      "         0.0       0.00      1.00      0.00         0\n",
      "         1.0       1.00      1.00      1.00         1\n",
      "         2.0       0.00      1.00      0.00         0\n",
      "         3.0       0.71      0.71      0.71         7\n",
      "         4.0       0.82      0.82      0.82        11\n",
      "         5.0       1.00      0.97      0.98        59\n",
      "\n",
      "    accuracy                           0.92        78\n",
      "   macro avg       0.59      0.92      0.59        78\n",
      "weighted avg       0.95      0.92      0.94        78\n",
      "\n"
     ]
    }
   ],
   "source": [
    "from sklearn.metrics import classification_report\n",
    "print(classification_report(y_pred, y_test, zero_division=1))"
   ]
  },
  {
   "cell_type": "code",
   "execution_count": null,
   "id": "f5732a15",
   "metadata": {},
   "outputs": [],
   "source": []
  },
  {
   "cell_type": "code",
   "execution_count": null,
   "id": "be4e57f6",
   "metadata": {},
   "outputs": [],
   "source": []
  }
 ],
 "metadata": {
  "kernelspec": {
   "display_name": "Python 3 (ipykernel)",
   "language": "python",
   "name": "python3"
  },
  "language_info": {
   "codemirror_mode": {
    "name": "ipython",
    "version": 3
   },
   "file_extension": ".py",
   "mimetype": "text/x-python",
   "name": "python",
   "nbconvert_exporter": "python",
   "pygments_lexer": "ipython3",
   "version": "3.9.12"
  }
 },
 "nbformat": 4,
 "nbformat_minor": 5
}
